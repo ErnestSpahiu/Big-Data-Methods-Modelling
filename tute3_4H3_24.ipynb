{
 "cells": [
  {
   "cell_type": "markdown",
   "id": "c6e94cbc-5cbf-4e8b-8ab2-26ab66263bd6",
   "metadata": {},
   "source": [
    "# CHEMENG 4H03: In-class exercise #3\n",
    "\n",
    "*February 16, 2024*\n",
    "\n",
    "## Goal\n",
    "\n",
    "Let's try out regression! First install the following packages; this will take a little while.\n",
    "\n",
    "- `JuMP`: this is an interface for writing optimization problems and applying optimization solvers. If you have 4G experience, `JuMP` is basically like GAMS but better in every way. It's free, faster, and easier to use.\n",
    "- `Ipopt`: this is a popular general-purpose local optimization solver. It's free, and developed by chemical engineers at Carnegie-Mellon!\n",
    "- `Plots`: for plotting."
   ]
  },
  {
   "cell_type": "markdown",
   "id": "05bcbe0c-3227-4d78-9aec-f7aaadfe1362",
   "metadata": {},
   "source": [
    "## Task\n",
    "\n",
    "Try fitting models to the following datasets on Avenue. In each case, the top row is just header information, the rightmost column is the sole output, the other columns are inputs, and each row is one data point.\n",
    "\n",
    "- `dataQuadraticFit.csv`: might be modelled well by a quadratic function of 2 variables (as presented in lecture).\n",
    "- `dataPolyFit.csv`: might be modelled well by a higher-degree polynomial of 1 variable\n",
    "- `dataNonPolyFit.csv`: is the same deal.\n",
    "\n",
    "For each dataset:\n",
    "\n",
    "- set aside some \"holdout\" data to validate your model fits\n",
    "- try a least-squares fit (as in lecture). For the functions of one variable, try the standard basis and the Legendre basis (handling the input variable's apparent bounds appropriately).\n",
    "- plot the model's description of the training data, and its prediction of the holdout/test set's outputs. \n",
    "- then try a parsimonious lasso fit, using the following `lasso` function."
   ]
  },
  {
   "cell_type": "code",
   "execution_count": null,
   "id": "a4c0b819",
   "metadata": {},
   "outputs": [],
   "source": [
    "import Pkg; Pkg.add(\"JuMP\")\n",
    "import Pkg; Pkg.add(\"Ipopt\")\n",
    "using JuMP, Ipopt, LinearAlgebra"
   ]
  },
  {
   "cell_type": "code",
   "execution_count": 10,
   "id": "43d92dcb-1688-4d67-b043-164a432e1e65",
   "metadata": {},
   "outputs": [
    {
     "name": "stderr",
     "output_type": "stream",
     "text": [
      "\u001b[32m\u001b[1m   Resolving\u001b[22m\u001b[39m package versions...\n"
     ]
    },
    {
     "name": "stderr",
     "output_type": "stream",
     "text": [
      "\u001b[32m\u001b[1m  No Changes\u001b[22m\u001b[39m to `~/.julia/environments/v1.10/Project.toml`\n",
      "\u001b[32m\u001b[1m  No Changes\u001b[22m\u001b[39m to `~/.julia/environments/v1.10/Manifest.toml`\n"
     ]
    },
    {
     "name": "stderr",
     "output_type": "stream",
     "text": [
      "\u001b[32m\u001b[1m   Resolving\u001b[22m\u001b[39m package versions...\n"
     ]
    },
    {
     "name": "stderr",
     "output_type": "stream",
     "text": [
      "\u001b[32m\u001b[1m  No Changes\u001b[22m\u001b[39m to `~/.julia/environments/v1.10/Project.toml`\n",
      "\u001b[32m\u001b[1m  No Changes\u001b[22m\u001b[39m to `~/.julia/environments/v1.10/Manifest.toml`\n"
     ]
    },
    {
     "data": {
      "text/plain": [
       "lasso (generic function with 1 method)"
      ]
     },
     "metadata": {},
     "output_type": "display_data"
    }
   ],
   "source": [
    "\n",
    "\n",
    "\n",
    "function lasso(Theta, y, lambda)\n",
    "    model = Model(Ipopt.Optimizer)\n",
    "    n = size(Theta, 1)\n",
    "\n",
    "    set_attribute(model, \"tol\", 1e-5)\n",
    "    set_attribute(model, \"max_iter\", 100)\n",
    "    set_attribute(model, \"mu_strategy\", \"adaptive\")\n",
    "    set_attribute(model, \"hessian_approximation\", \"limited-memory\")\n",
    "    set_attribute(model, \"print_level\", 2)\n",
    "\n",
    "    @variable(model, a[1:n])\n",
    "    @objective(model, Min, (Theta*a - y)'*(Theta*a - y) + sum(abs(a[i]) for i in 1:n))\n",
    "\n",
    "    optimize!(model)\n",
    "    aStar = value.(a)\n",
    "    \n",
    "    return aStar\n",
    "end"
   ]
  },
  {
   "cell_type": "markdown",
   "id": "8113662c-f1d1-44f8-8286-1fa975ac7f6f",
   "metadata": {},
   "source": []
  },
  {
   "cell_type": "code",
   "execution_count": 39,
   "id": "c3129fa5-5460-4475-a2c2-c3e187499121",
   "metadata": {},
   "outputs": [
    {
     "data": {
      "text/plain": [
       "832-element Vector{Float64}:\n",
       "  0.03663271\n",
       "  3.571413499\n",
       "  2.075876238\n",
       "  0.839213393\n",
       "  1.573418293\n",
       "  3.658472984\n",
       "  3.546759778\n",
       " -1.726581982\n",
       " -2.269951881\n",
       " -0.317683505\n",
       "  ⋮\n",
       " -0.686893529\n",
       "  0.203229619\n",
       "  1.058934146\n",
       " -1.795584064\n",
       "  0.841660251\n",
       "  2.596691192\n",
       "  2.479859548\n",
       "  1.029526971\n",
       " -0.80002047"
      ]
     },
     "metadata": {},
     "output_type": "display_data"
    }
   ],
   "source": [
    "using DelimitedFiles\n",
    "using Plots\n",
    "data = readdlm(\"dataPolyFit.csv\", ',', skipstart=1)\n",
    "x = data[:, 1]\n",
    "theta = [ones(:, 1);\n",
    "\n",
    "\n",
    "\n",
    "\n",
    "\n"
   ]
  }
 ],
 "metadata": {
  "kernelspec": {
   "display_name": "Julia 1.10.0",
   "language": "julia",
   "name": "julia-1.10"
  },
  "language_info": {
   "file_extension": ".jl",
   "mimetype": "application/julia",
   "name": "julia",
   "version": "1.10.0"
  }
 },
 "nbformat": 4,
 "nbformat_minor": 5
}
