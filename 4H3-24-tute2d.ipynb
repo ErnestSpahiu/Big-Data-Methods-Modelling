{
 "cells": [
  {
   "cell_type": "markdown",
   "id": "c6e94cbc-5cbf-4e8b-8ab2-26ab66263bd6",
   "metadata": {},
   "source": [
    "# CHEMENG 4H03: In-class exercise #2\n",
    "\n",
    "*January 29, 2024*\n",
    "\n",
    "## Background\n",
    "\n",
    "The **singular value decomposition (SVD)** is the mathematical engine underlying Principal Component Analysis (PCA). Any matrix $\\mathbf{A}\\in\\mathbb{R}^{m\\times n}$ can be expressed in an SVD as a product of three matrices: $\\mathbf{A}=\\mathbf{U\\Sigma V}^{\\mathrm{T}}$, where:\n",
    " \n",
    "- $\\mathbf{U}$ is orthogonal (that is: it's square, each column is a unit vector, and distinct columns are orthogonal). Its columns are called **left singular vectors**.\n",
    "- $\\mathbf{V}$ is orthogonal too, and the transpose in the SVD hints that its rows are important. Its columns are called **right singular vectors**.\n",
    "- $\\mathbf{\\Sigma}$ is diagonal (but not necessarily square). Its diagonal entries are called **singular values**; they are all $\\geq 0$ and they appear in decreasing order.\n",
    "  \n",
    "The $\\mathbf{U}$ and $\\mathbf{V}$ matrices are not unique, but $\\mathbf{\\Sigma}$ is.\n",
    "\n",
    "As with eigenvalues, in typical applications no one computes the SVD by hand; they use a computer instead. Let's try it out in Julia."
   ]
  },
  {
   "cell_type": "markdown",
   "id": "d55910da-0f02-434e-9f35-2bf3cd9b4227",
   "metadata": {},
   "source": [
    "## Goal\n",
    "\n",
    "The purpose of this exercise is to apply the SVD in different situations, to see how the SVD behaves, and to see how various information about a matrix is encoded in its three SVD matrices."
   ]
  },
  {
   "cell_type": "markdown",
   "id": "05bcbe0c-3227-4d78-9aec-f7aaadfe1362",
   "metadata": {},
   "source": [
    "## Task\n",
    "\n",
    "Compute the SVD of the following matrices. In each case, imagine how the SVD might encode the crucial details, and then see how the actual SVD compares with what you imagined.\n",
    "\n",
    "- An identity matrix\n",
    "- A matrix of all zeroes\n",
    "- A diagonal matrix with each diagonal entry $>0$\n",
    "- A diagonal matrix with each diagonal entry $<0$\n",
    "- A diagonal matrix with some positive diagonal entries, and some negative diagonal matrices\n",
    "- A rank-1 matrix\n",
    "- A rank-2 matrix (this could be the sum of two rank-1 matrices)\n",
    "\n",
    "Next, construct a generic matrix $\\mathbf{A}$ with: \n",
    "\n",
    "- around 3-5 columns, \n",
    "- around 3-5 rows, \n",
    "- and each component a `Float64` between about -10 and 10,\n",
    "  \n",
    "and investigate how the SVD responds when $\\mathbf{A}$ is transformed in any of the following ways. In each case, guess what you think will happen first, and then compare your guess to the results you obtain.\n",
    "\n",
    "- Multiplying the whole matrix by 2\n",
    "- Swapping two columns\n",
    "- Swapping two rows\n",
    "- Adding a small amount of random noise (generated with `randn` after `using Random`)\n",
    "- Adding a large amount of random noise\n",
    "- Multiplying one column by 1000 (e.g. if a volume is measured in litres instead of $m^3$)\n",
    "- Appending a new column of all 0s\n",
    "- Appending a new row of all 0s\n",
    "- Appending a new column/row of all 1s, or all 1000000s\n",
    "- Right-multiplying or left-multiplying by an orthogonal matrix. (You can quickly construct an orthogonal matrix by starting with a square matrix of 0s, and then adding exactly one 1 to each column and each row.)"
   ]
  },
  {
   "cell_type": "markdown",
   "id": "b47a61f3-869e-44de-b7ae-46b06303ade0",
   "metadata": {},
   "source": [
    "## Try it out!\n",
    "\n",
    "### SVD of an identity matrix\n",
    "\n",
    "I'll take this one:"
   ]
  },
  {
   "cell_type": "code",
   "execution_count": 3,
   "id": "a18edc85-5986-4eb6-b1e6-3620d6bef7b8",
   "metadata": {
    "scrolled": true
   },
   "outputs": [
    {
     "data": {
      "text/plain": [
       "SVD{Float64, Float64, Matrix{Float64}, Vector{Float64}}\n",
       "U factor:\n",
       "4×4 Matrix{Float64}:\n",
       " 0.0  1.0   0.0  0.0\n",
       " 1.0  0.0   0.0  0.0\n",
       " 0.0  0.0   0.0  1.0\n",
       " 0.0  0.0  -1.0  0.0\n",
       "singular values:\n",
       "4-element Vector{Float64}:\n",
       " 3.0\n",
       " 2.23606797749979\n",
       " 2.0\n",
       " 0.0\n",
       "Vt factor:\n",
       "4×5 Matrix{Float64}:\n",
       " -0.0        0.0   1.0  -0.0  0.0\n",
       "  0.447214  -0.0  -0.0  -0.0  0.894427\n",
       "  0.0       -1.0   0.0   0.0  0.0\n",
       "  0.0        0.0   0.0   1.0  0.0"
      ]
     },
     "metadata": {},
     "output_type": "display_data"
    }
   ],
   "source": [
    "using LinearAlgebra\n",
    "\n",
    "U, Sigma, V = svd(I(5))\n",
    "A = [1. 0. 0. 0. 2.; 0. 0. 3. 0. 0.; 0. 0. 0. 0. 0.; 0. 2. 0. 0. 0.];\n",
    "A1 = [1. 3. 4. 5.; 2. 4. 5. 6.; 3. 5. 6. 7.; 4. 6. 7. 8.];\n",
    "D = Diagonal(10:10:50)\n",
    "\n",
    "U, Sigma, V = svd(A1)\n",
    "out, Sigma, V = svd(A)\n"
   ]
  },
  {
   "cell_type": "markdown",
   "id": "ae13eab2-bbc6-4a94-9718-e24303bfbe6f",
   "metadata": {},
   "source": [
    "In Julia, the output `Sigma` is a vector of singular values; the full diagonal matrix $\\mathbf{\\Sigma}$ can be constructed as `Diagonal(Sigma)`. Were these SVD matrices what you expected? Have fun with the rest!"
   ]
  },
  {
   "cell_type": "code",
   "execution_count": 18,
   "id": "43d92dcb-1688-4d67-b043-164a432e1e65",
   "metadata": {},
   "outputs": [
    {
     "data": {
      "text/plain": [
       "SVD{Float64, Float64, Matrix{Float64}, Vector{Float64}}\n",
       "U factor:\n",
       "3×3 Matrix{Float64}:\n",
       " 0.0  0.0  1.0\n",
       " 0.0  1.0  0.0\n",
       " 1.0  0.0  0.0\n",
       "singular values:\n",
       "3-element Vector{Float64}:\n",
       " 3.0\n",
       " 2.0\n",
       " 1.0\n",
       "Vt factor:\n",
       "3×3 Matrix{Float64}:\n",
       " 0.0  0.0  1.0\n",
       " 0.0  1.0  0.0\n",
       " 1.0  0.0  0.0"
      ]
     },
     "metadata": {},
     "output_type": "display_data"
    }
   ],
   "source": [
    "D3 = Diagonal([1., 2., 3.]);\n",
    "U3, Sigma3, V3= svd(D3)"
   ]
  },
  {
   "cell_type": "code",
   "execution_count": 1,
   "id": "f91746cc",
   "metadata": {},
   "outputs": [
    {
     "ename": "MethodError",
     "evalue": "MethodError: no method matching (::Colon)(::StepRange{Int64, Int64}, ::Int64)\n\nClosest candidates are:\n  (::Colon)(::T, ::Any, !Matched::T) where T\n   @ Base range.jl:49\n  (::Colon)(!Matched::T, ::Real, !Matched::T) where T<:AbstractFloat\n   @ Base range.jl:18\n  (::Colon)(!Matched::T, ::T, !Matched::T) where T<:Real\n   @ Base range.jl:22\n  ...\n",
     "output_type": "error",
     "traceback": [
      "MethodError: no method matching (::Colon)(::StepRange{Int64, Int64}, ::Int64)\n",
      "\n",
      "Closest candidates are:\n",
      "  (::Colon)(::T, ::Any, !Matched::T) where T\n",
      "   @ Base range.jl:49\n",
      "  (::Colon)(!Matched::T, ::Real, !Matched::T) where T<:AbstractFloat\n",
      "   @ Base range.jl:18\n",
      "  (::Colon)(!Matched::T, ::T, !Matched::T) where T<:Real\n",
      "   @ Base range.jl:22\n",
      "  ...\n",
      "\n",
      "\n",
      "Stacktrace:\n",
      " [1] top-level scope\n",
      "   @ ~/Desktop/CHEM 4H03/4H3-24-tute2d.ipynb:1"
     ]
    }
   ],
   "source": [
    "D2 = Diagonal(-10:-5:-10:-4)\n",
    "U2, Sigma2, V2 = svd(D2)"
   ]
  }
 ],
 "metadata": {
  "kernelspec": {
   "display_name": "Julia 1.10.0",
   "language": "julia",
   "name": "julia-1.10"
  },
  "language_info": {
   "file_extension": ".jl",
   "mimetype": "application/julia",
   "name": "julia",
   "version": "1.10.0"
  }
 },
 "nbformat": 4,
 "nbformat_minor": 5
}
